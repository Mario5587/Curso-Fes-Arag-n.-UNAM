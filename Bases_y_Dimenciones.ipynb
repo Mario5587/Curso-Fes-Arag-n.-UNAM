{
  "nbformat": 4,
  "nbformat_minor": 0,
  "metadata": {
    "colab": {
      "provenance": [],
      "authorship_tag": "ABX9TyOm7bqaO+kJl6YrHMyaa6JC",
      "include_colab_link": true
    },
    "kernelspec": {
      "name": "python3",
      "display_name": "Python 3"
    },
    "language_info": {
      "name": "python"
    }
  },
  "cells": [
    {
      "cell_type": "markdown",
      "metadata": {
        "id": "view-in-github",
        "colab_type": "text"
      },
      "source": [
        "<a href=\"https://colab.research.google.com/github/Mario5587/Curso-Fes-Arag-n.-UNAM/blob/main/Bases_y_Dimenciones.ipynb\" target=\"_parent\"><img src=\"https://colab.research.google.com/assets/colab-badge.svg\" alt=\"Open In Colab\"/></a>"
      ]
    },
    {
      "cell_type": "markdown",
      "source": [
        "#Bases y Dimenciones"
      ],
      "metadata": {
        "id": "2AIBJpiCq0RS"
      }
    },
    {
      "cell_type": "markdown",
      "source": [
        "#### Bases\n",
        "\n",
        "**Definición de Base de un Espacio Vectorial**\n",
        "\n",
        "Una base de un espacio vectorial $V$ es un conjunto de vectores linealmente independientes que generan $V$. Formalmente, si $B = \\{v_1, v_2, \\ldots, v_n\\}$ es una base de $V$, entonces:\n",
        "\n",
        "1. **Linealmente Independientes**: Los vectores en $B$ son linealmente independientes. Esto significa que si $c_1 v_1 + c_2 v_2 + \\cdots + c_n v_n = 0$ implica que $c_1 = c_2 = \\cdots = c_n = 0$.\n",
        "\n",
        "2. **Generan $V$**: Cualquier vector en $V$ puede ser expresado como una combinación lineal de los vectores en $B$. Esto es, para cualquier $v \\in V$, existen escalares $a_1, a_2, \\ldots, a_n$ tales que $v = a_1 v_1 + a_2 v_2 + \\cdots + a_n v_n$.\n",
        "\n",
        "**Teorema de la Base**\n",
        "\n",
        "Si $V$ es un espacio vectorial de dimensión finita, entonces cualquier conjunto de $n$ vectores linealmente independientes en $V$ es una base de $V$, donde $n$ es la dimensión de $V$.\n",
        "\n",
        "**Cálculo de Coordenadas**\n",
        "\n",
        "Dado un vector $v \\in V$ y una base $B = \\{v_1, v_2, \\ldots, v_n\\}$, las coordenadas de $v$ respecto a $B$ son los escalares $a_1, a_2, \\ldots, a_n$ tales que $v = a_1 v_1 + a_2 v_2 + \\cdots + a_n v_n$. Estos escalares se pueden obtener resolviendo el sistema de ecuaciones lineales que surge al igualar $v$ con la combinación lineal de los vectores de la base."
      ],
      "metadata": {
        "id": "1VATPvx2aaFY"
      }
    },
    {
      "cell_type": "markdown",
      "source": [
        "#### Dimensión\n",
        "\n",
        "**Definición de Dimensión**\n",
        "\n",
        "La dimensión de un espacio vectorial $V$, denotada como $\\dim(V)$, es el número de vectores en cualquier base de $V$. Si $V$ no tiene una base finita, se dice que $V$ es de dimensión infinita.\n",
        "\n",
        "**Propiedades de la Dimensión**\n",
        "\n",
        "1. **Única**: Si $V$ tiene una base de $n$ elementos, entonces cualquier otra base de $V$ también tendrá $n$ elementos. Esto implica que la dimensión está bien definida.\n",
        "2. **Subespacios**: Si $W$ es un subespacio de $V$, entonces $\\dim(W) \\leq \\dim(V)$.\n",
        "3. **Suma de Dimensiones**: Si $U$ y $W$ son subespacios de $V$, entonces\n",
        "   $$\\dim(U + W) = \\dim(U) + \\dim(W) - \\dim(U \\cap W)$$"
      ],
      "metadata": {
        "id": "ZEo77H2IarvQ"
      }
    },
    {
      "cell_type": "markdown",
      "source": [
        "#Ejemplo con python"
      ],
      "metadata": {
        "id": "Dw8-ijs8a05x"
      }
    },
    {
      "cell_type": "code",
      "source": [
        "import numpy as np\n",
        "from sympy import Matrix\n",
        "\n",
        "vectores = [Matrix([1, 2, 3]), Matrix([4, 5, 6]), Matrix([7, 8, 9])]\n",
        "\n",
        "A = Matrix(vectores).transpose()\n",
        "\n",
        "# Calculamos la base utilizando la eliminación de Gauss\n",
        "A_rref, pivots = A.rref()\n",
        "base = A_rref[:, :len(pivots)]\n",
        "print(\"La base del espacio vectorial es:\")\n",
        "print(base)"
      ],
      "metadata": {
        "colab": {
          "base_uri": "https://localhost:8080/"
        },
        "id": "SQqVjrEPaQEx",
        "outputId": "689181c5-9daa-4822-b4c8-2d12a0aea6b0"
      },
      "execution_count": 15,
      "outputs": [
        {
          "output_type": "stream",
          "name": "stdout",
          "text": [
            "La base del espacio vectorial es:\n",
            "Matrix([[1]])\n"
          ]
        }
      ]
    },
    {
      "cell_type": "markdown",
      "source": [
        "#### Ejemplo 2: Cálculo de Coordenadas de un Vector\n"
      ],
      "metadata": {
        "id": "rGA9NOkhbHDx"
      }
    },
    {
      "cell_type": "code",
      "source": [
        "import numpy as np\n",
        "from sympy import Matrix\n",
        "\n",
        "# Definimos una base y un vector\n",
        "base = [Matrix([1, 0, 0]), Matrix([0, 1, 0]), Matrix([0, 0, 1])]\n",
        "vector = Matrix([4, 5, 6])\n",
        "\n",
        "A = Matrix(base + [vector]).transpose()\n",
        "\n",
        "A_rref, _ = A.rref()\n",
        "coordenadas = A_rref[:, -1]\n",
        "print(\"Las coordenadas del vector respecto a la base son:\")\n",
        "print(coordenadas)"
      ],
      "metadata": {
        "colab": {
          "base_uri": "https://localhost:8080/"
        },
        "id": "AItfTGmzbIAf",
        "outputId": "a944c417-6ee1-4d8e-d1c3-4ced759f44e2"
      },
      "execution_count": 16,
      "outputs": [
        {
          "output_type": "stream",
          "name": "stdout",
          "text": [
            "Las coordenadas del vector respecto a la base son:\n",
            "Matrix([[6]])\n"
          ]
        }
      ]
    },
    {
      "cell_type": "markdown",
      "source": [
        "#### Ejemplo 3: Determinación de la Dimensión de un Subespacio\n"
      ],
      "metadata": {
        "id": "R_J1jV8EbXl3"
      }
    },
    {
      "cell_type": "code",
      "source": [
        "import numpy as np\n",
        "from sympy import Matrix\n",
        "\n",
        "vectores = [Matrix([1, 2, 3]), Matrix([4, 5, 6]), Matrix([1, 1, 1])]\n",
        "\n",
        "A = Matrix(vectores).transpose()\n",
        "\n",
        "# Calculamos la dimensión del subespacio utilizando la eliminación de Gauss\n",
        "A_rref, pivots = A.rref()\n",
        "dimension = len(pivots)\n",
        "print(\"La dimensión del subespacio es:\")\n",
        "print(dimension)\n"
      ],
      "metadata": {
        "colab": {
          "base_uri": "https://localhost:8080/"
        },
        "id": "p-LyJLRxbRsB",
        "outputId": "c3258849-e7fc-4f4b-9e84-93945c78bd2f"
      },
      "execution_count": 17,
      "outputs": [
        {
          "output_type": "stream",
          "name": "stdout",
          "text": [
            "La dimensión del subespacio es:\n",
            "1\n"
          ]
        }
      ]
    },
    {
      "cell_type": "markdown",
      "source": [
        "#### Ejemplo 4: Verificación de Dimensiones de Subespacios\n"
      ],
      "metadata": {
        "id": "DYQT_qFQbi3Z"
      }
    },
    {
      "cell_type": "code",
      "source": [
        "import numpy as np\n",
        "from sympy import Matrix\n",
        "\n",
        "# Definimos dos conjuntos de vectores que forman los subespacios U y W\n",
        "vectores_U = [Matrix([1, 0, 0]), Matrix([0, 1, 0])]\n",
        "vectores_W = [Matrix([0, 1, 0]), Matrix([0, 0, 1])]\n",
        "\n",
        "# Creamos matrices con estos vectores\n",
        "A_U = Matrix(vectores_U).transpose()\n",
        "A_W = Matrix(vectores_W).transpose()\n",
        "\n",
        "# Calculamos las dimensiones de U y W\n",
        "_, pivots_U = A_U.rref()\n",
        "_, pivots_W = A_W.rref()\n",
        "dimension_U = len(pivots_U)\n",
        "dimension_W = len(pivots_W)\n",
        "\n",
        "# Calculamos la dimensión de U + W\n",
        "vectores_UW = vectores_U + vectores_W\n",
        "A_UW = Matrix(vectores_UW).transpose()\n",
        "A_UW_rref, pivots_UW = A_UW.rref()\n",
        "dimension_UW = len(pivots_UW)\n",
        "\n",
        "# Calculamos la dimensión de U ∩ W\n",
        "interseccion = A_U.rref()[0].col_join(A_W.rref()[0])\n",
        "_, pivots_interseccion = interseccion.rref()\n",
        "dimension_interseccion = len(pivots_interseccion) - A_U.rows\n",
        "\n",
        "print(\"Dimensión de U:\", dimension_U)\n",
        "print(\"Dimensión de W:\", dimension_W)\n",
        "print(\"Dimensión de U + W:\", dimension_UW)\n",
        "print(\"Dimensión de U ∩ W:\", dimension_interseccion)\n"
      ],
      "metadata": {
        "colab": {
          "base_uri": "https://localhost:8080/"
        },
        "id": "JWAvnJawbpqD",
        "outputId": "44bcfa0e-0be7-463f-aecf-82e005c620c9"
      },
      "execution_count": 18,
      "outputs": [
        {
          "output_type": "stream",
          "name": "stdout",
          "text": [
            "Dimensión de U: 1\n",
            "Dimensión de W: 1\n",
            "Dimensión de U + W: 1\n",
            "Dimensión de U ∩ W: 1\n"
          ]
        }
      ]
    },
    {
      "cell_type": "markdown",
      "source": [],
      "metadata": {
        "id": "VEJBmti0bkQA"
      }
    }
  ]
}