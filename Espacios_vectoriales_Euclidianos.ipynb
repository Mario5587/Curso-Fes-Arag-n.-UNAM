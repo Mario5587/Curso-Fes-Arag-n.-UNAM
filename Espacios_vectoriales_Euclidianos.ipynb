{
  "nbformat": 4,
  "nbformat_minor": 0,
  "metadata": {
    "colab": {
      "provenance": [],
      "authorship_tag": "ABX9TyOxrBs6qNk+xW5SNQ4bHG4A",
      "include_colab_link": true
    },
    "kernelspec": {
      "name": "python3",
      "display_name": "Python 3"
    },
    "language_info": {
      "name": "python"
    }
  },
  "cells": [
    {
      "cell_type": "markdown",
      "metadata": {
        "id": "view-in-github",
        "colab_type": "text"
      },
      "source": [
        "<a href=\"https://colab.research.google.com/github/Mario5587/Curso-Fes-Arag-n.-UNAM/blob/main/Espacios_vectoriales_Euclidianos.ipynb\" target=\"_parent\"><img src=\"https://colab.research.google.com/assets/colab-badge.svg\" alt=\"Open In Colab\"/></a>"
      ]
    },
    {
      "cell_type": "markdown",
      "source": [
        "#Bases y Dimenciones"
      ],
      "metadata": {
        "id": "2AIBJpiCq0RS"
      }
    },
    {
      "cell_type": "markdown",
      "source": [
        "# Espacios Vectoriales Euclidianos"
      ],
      "metadata": {
        "id": "VEJBmti0bkQA"
      }
    },
    {
      "cell_type": "markdown",
      "source": [
        "**Producto Escalar**\n",
        "\n",
        "El producto escalar (o producto punto) en un espacio vectorial euclidiano es una operación que toma dos vectores y produce un escalar. En el espacio $\\mathbb{R}^n$, el producto escalar de dos vectores $\\mathbf{u} = (u_1, u_2, \\ldots, u_n)$ y $\\mathbf{v} = (v_1, v_2, \\ldots, v_n)$ se define como:\n",
        "\n",
        "$$\n",
        "\\mathbf{u} \\cdot \\mathbf{v} = u_1 v_1 + u_2 v_2 + \\cdots + u_n v_n = \\sum_{i=1}^n u_i v_i\n",
        "$$\n",
        "\n",
        "**Propiedades del Producto Escalar**\n",
        "\n",
        "1. **Conmutatividad**: $\\mathbf{u} \\cdot \\mathbf{v} = \\mathbf{v} \\cdot \\mathbf{u}$\n",
        "2. **Distributividad**: $\\mathbf{u} \\cdot (\\mathbf{v} + \\mathbf{w}) = \\mathbf{u} \\cdot \\mathbf{v} + \\mathbf{u} \\cdot \\mathbf{w}$\n",
        "3. **Asociatividad con el producto por un escalar**: $(c\\mathbf{u}) \\cdot \\mathbf{v} = c (\\mathbf{u} \\cdot \\mathbf{v})$, donde $c$ es un escalar.\n",
        "4. **Positividad**: $\\mathbf{u} \\cdot \\mathbf{u} \\geq 0$, y $\\mathbf{u} \\cdot \\mathbf{u} = 0$ si y solo si $\\mathbf{u} = \\mathbf{0}$.\n",
        "\n",
        "**Normas y Distancias**\n",
        "\n",
        "La norma (o longitud) de un vector $\\mathbf{u}$ en un espacio vectorial euclidiano se define como:\n",
        "\n",
        "$$\n",
        "\\|\\mathbf{u}\\| = \\sqrt{\\mathbf{u} \\cdot \\mathbf{u}} = \\sqrt{u_1^2 + u_2^2 + \\cdots + u_n^2}\n",
        "$$\n",
        "\n",
        "La distancia entre dos vectores $\\mathbf{u}$ y $\\mathbf{v}$ se define como la norma de su diferencia:\n",
        "\n",
        "$$\n",
        "d(\\mathbf{u}, \\mathbf{v}) = \\|\\mathbf{u} - \\mathbf{v}\\| = \\sqrt{(u_1 - v_1)^2 + (u_2 - v_2)^2 + \\cdots + (u_n - v_n)^2}\n",
        "$$\n"
      ],
      "metadata": {
        "id": "qtpLWE5hcfZA"
      }
    },
    {
      "cell_type": "markdown",
      "source": [
        "**Bases Ortogonales**\n",
        "\n",
        "En un espacio vectorial con producto escalar, dos vectores $\\mathbf{u}$ y $\\mathbf{v}$ son ortogonales si su producto escalar es cero:\n",
        "\n",
        "$$\n",
        "\\mathbf{u} \\cdot \\mathbf{v} = 0\n",
        "$$\n",
        "\n",
        "Una base ortogonal de un espacio vectorial es un conjunto de vectores ortogonales entre sí que generan todo el espacio. Si además cada vector de la base tiene norma 1, se dice que la base es ortonormal.\n",
        "\n",
        "**Proyecciones Ortogonales**\n",
        "\n",
        "La proyección ortogonal de un vector $\\mathbf{u}$ sobre un vector $\\mathbf{v}$ se define como:\n",
        "\n",
        "$$\n",
        "\\text{proj}_{\\mathbf{v}} \\mathbf{u} = \\frac{\\mathbf{u} \\cdot \\mathbf{v}}{\\mathbf{v} \\cdot \\mathbf{v}} \\mathbf{v}\n",
        "$$\n",
        "\n",
        "Si $\\{\\mathbf{v}_1, \\mathbf{v}_2, \\ldots, \\mathbf{v}_n\\}$ es una base ortogonal de un espacio vectorial, cualquier vector $\\mathbf{u}$ en el espacio puede expresarse como una combinación lineal de los vectores de la base. La expresión de $\\mathbf{u}$ en términos de esta base se obtiene mediante proyecciones ortogonales sobre cada uno de los vectores de la base.\n",
        "\n",
        "**Proyecciones Ortogonales en Subespacios**\n",
        "\n",
        "Sea $W$ un subespacio de un espacio vectorial euclidiano $V$. La proyección ortogonal de un vector $\\mathbf{u} \\in V$ sobre $W$ es el vector $\\mathbf{w} \\in W$ tal que $\\mathbf{u} - \\mathbf{w}$ es ortogonal a cada vector en $W$. Si $\\{\\mathbf{v}_1, \\mathbf{v}_2, \\ldots, \\mathbf{v}_k\\}$ es una base ortogonal de $W$, la proyección ortogonal de $\\mathbf{u}$ sobre $W$ es:\n",
        "\n",
        "$$\n",
        "\\text{proj}_W \\mathbf{u} = \\sum_{i=1}^k \\text{proj}_{\\mathbf{v}_i} \\mathbf{u}\n",
        "$$\n",
        "\n",
        "donde $\\text{proj}_{\\mathbf{v}_i} \\mathbf{u}$ es la proyección de $\\mathbf{u}$ sobre $\\mathbf{v}_i$.\n",
        "\n",
        "**Proceso de Gram-Schmidt**\n",
        "\n",
        "El proceso de Gram-Schmidt es un método para convertir un conjunto de vectores linealmente independientes en una base ortogonal. Dado un conjunto de vectores $\\{\\mathbf{v}_1, \\mathbf{v}_2, \\ldots, \\mathbf{v}_n\\}$, el proceso genera un conjunto de vectores ortogonales $\\{\\mathbf{u}_1, \\mathbf{u}_2, \\ldots, \\mathbf{u}_n\\}$ de la siguiente manera:\n",
        "\n",
        "1. Sea $\\mathbf{u}_1 = \\mathbf{v}_1$\n",
        "2. Para $k = 2, 3, \\ldots, n$:\n",
        "   $$\n",
        "   \\mathbf{u}_k = \\mathbf{v}_k - \\sum_{j=1}^{k-1} \\text{proj}_{\\mathbf{u}_j} \\mathbf{v}_k\n",
        "   $$\n",
        "   donde $\\text{proj}_{\\mathbf{u}_j} \\mathbf{v}_k = \\frac{\\mathbf{v}_k \\cdot \\mathbf{u}_j}{\\mathbf{u}_j \\cdot \\mathbf{u}_j} \\mathbf{u}_j$\n",
        "\n",
        "Finalmente, para obtener una base ortonormal, cada vector $\\mathbf{u}_k$ se normaliza:\n",
        "\n",
        "$$\n",
        "\\mathbf{e}_k = \\frac{\\mathbf{u}_k}{\\|\\mathbf{u}_k\\|}\n",
        "$$\n",
        "\n",
        "El conjunto resultante $\\{\\mathbf{e}_1, \\mathbf{e}_2, \\ldots, \\mathbf{e}_n\\}$ es una base ortonormal.\n"
      ],
      "metadata": {
        "id": "hTo7gWutcmnp"
      }
    },
    {
      "cell_type": "markdown",
      "source": [
        "# Ejemplos con Python"
      ],
      "metadata": {
        "id": "IRI1kyegcvCw"
      }
    },
    {
      "cell_type": "markdown",
      "source": [
        "#### Ejemplo 1: Cálculo del Producto Escalar"
      ],
      "metadata": {
        "id": "XYbzy_hDc8Tc"
      }
    },
    {
      "cell_type": "code",
      "source": [
        "import numpy as np\n",
        "\n",
        "# Definimos dos vectores\n",
        "u = np.array([1, 2, 3])\n",
        "v = np.array([4, 5, 6])\n",
        "\n",
        "# Calculamos el producto escalar\n",
        "producto_escalar = np.dot(u, v)\n",
        "print(\"El producto escalar de u y v es:\", producto_escalar)\n"
      ],
      "metadata": {
        "colab": {
          "base_uri": "https://localhost:8080/"
        },
        "id": "RzjSxRTPc5ja",
        "outputId": "4797cab8-1737-4c2d-955a-76a76bd24cff"
      },
      "execution_count": 19,
      "outputs": [
        {
          "output_type": "stream",
          "name": "stdout",
          "text": [
            "El producto escalar de u y v es: 32\n"
          ]
        }
      ]
    },
    {
      "cell_type": "markdown",
      "source": [
        "#### Ejemplo 2: Cálculo de la Norma de un Vector"
      ],
      "metadata": {
        "id": "Q0VChwaNdE_K"
      }
    },
    {
      "cell_type": "code",
      "source": [
        "import numpy as np\n",
        "\n",
        "# Definimos un vector\n",
        "u = np.array([1, 2, 3])\n",
        "\n",
        "# Calculamos la norma del vector\n",
        "norma = np.linalg.norm(u)\n",
        "print(\"La norma de u es:\", norma)\n"
      ],
      "metadata": {
        "colab": {
          "base_uri": "https://localhost:8080/"
        },
        "id": "YViI7vjJdGqw",
        "outputId": "63feefa0-68b9-4b29-8811-0a224c58571a"
      },
      "execution_count": 20,
      "outputs": [
        {
          "output_type": "stream",
          "name": "stdout",
          "text": [
            "La norma de u es: 3.7416573867739413\n"
          ]
        }
      ]
    },
    {
      "cell_type": "markdown",
      "source": [
        "#### Ejemplo 3: Proyección Ortogonal de un Vector sobre Otro\n"
      ],
      "metadata": {
        "id": "Qo3-m7jFdQ2y"
      }
    },
    {
      "cell_type": "code",
      "source": [
        "import numpy as np\n",
        "\n",
        "# Definimos dos vectores\n",
        "u = np.array([1, 2, 3])\n",
        "v = np.array([4, 0, 0])\n",
        "\n",
        "# Calculamos la proyección ortogonal de u sobre v\n",
        "proyeccion = np.dot(u, v) / np.dot(v, v) * v\n",
        "print(\"La proyección ortogonal de u sobre v es:\", proyeccion)\n"
      ],
      "metadata": {
        "colab": {
          "base_uri": "https://localhost:8080/"
        },
        "id": "vYsEWA1zdRm-",
        "outputId": "59bc8364-3c6e-487c-807b-5607b040e7a4"
      },
      "execution_count": 21,
      "outputs": [
        {
          "output_type": "stream",
          "name": "stdout",
          "text": [
            "La proyección ortogonal de u sobre v es: [1. 0. 0.]\n"
          ]
        }
      ]
    },
    {
      "cell_type": "markdown",
      "source": [
        "#### Ejemplo 4: Base Ortonormal utilizando el Proceso de Gram-Schmidt\n"
      ],
      "metadata": {
        "id": "kNL5m6DOdVjo"
      }
    },
    {
      "cell_type": "code",
      "source": [
        "import numpy as np\n",
        "\n",
        "def gram_schmidt(V):\n",
        "    # Inicializamos una lista para almacenar los vectores ortonormales\n",
        "    U = []\n",
        "    for v in V:\n",
        "        # Proyectamos v sobre cada vector ortonormal en U\n",
        "        for u in U:\n",
        "            v = v - np.dot(v, u) * u\n",
        "        # Normalizamos el vector\n",
        "        v = v / np.linalg.norm(v)\n",
        "        # Añadimos el vector ortonormal a U\n",
        "        U.append(v)\n",
        "    return np.array(U)\n",
        "\n",
        "# Definimos un conjunto de vectores linealmente independientes\n",
        "V = np.array([[1, 1, 0], [1, 0, 1], [0, 1, 1]])\n",
        "\n",
        "# Calculamos la base ortonormal utilizando el proceso de Gram-Schmidt\n",
        "U = gram_schmidt(V)\n",
        "print(\"La base ortonormal es:\")\n",
        "print(U)\n"
      ],
      "metadata": {
        "colab": {
          "base_uri": "https://localhost:8080/"
        },
        "id": "lES7oiRVdZs1",
        "outputId": "a782d072-a354-42a0-96a6-d4a1dce51832"
      },
      "execution_count": 22,
      "outputs": [
        {
          "output_type": "stream",
          "name": "stdout",
          "text": [
            "La base ortonormal es:\n",
            "[[ 0.70710678  0.70710678  0.        ]\n",
            " [ 0.40824829 -0.40824829  0.81649658]\n",
            " [-0.57735027  0.57735027  0.57735027]]\n"
          ]
        }
      ]
    }
  ]
}